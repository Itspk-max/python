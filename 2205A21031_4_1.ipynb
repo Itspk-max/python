{
  "nbformat": 4,
  "nbformat_minor": 0,
  "metadata": {
    "colab": {
      "provenance": [],
      "authorship_tag": "ABX9TyOHnADWafnBgAjHl0uv0DTb",
      "include_colab_link": true
    },
    "kernelspec": {
      "name": "python3",
      "display_name": "Python 3"
    },
    "language_info": {
      "name": "python"
    }
  },
  "cells": [
    {
      "cell_type": "markdown",
      "metadata": {
        "id": "view-in-github",
        "colab_type": "text"
      },
      "source": [
        "<a href=\"https://colab.research.google.com/github/Itspk-max/python/blob/main/2205A21031_4_1.ipynb\" target=\"_parent\"><img src=\"https://colab.research.google.com/assets/colab-badge.svg\" alt=\"Open In Colab\"/></a>"
      ]
    },
    {
      "cell_type": "code",
      "source": [
        "Previous_units = float(input(\"Enter the previous units\"))\n",
        "Current_units = float(input(\"Enter the current units\"))\n",
        "Type_of_customer = int(input(\"Enter the type of customer\"))\n",
        "import datetime\n",
        "now=datetime.datetime.now()\n",
        "print(\"current date and time\",now)\n",
        "formatted_now=now.strftime(\"%Y-%m-%d %H:%M:%S\")\n",
        "count=0\n",
        "\n",
        "Units = Current_units - Previous_units\n",
        "Electricity_Duty_charges = 0.06 * Units\n",
        "\n",
        "if (Type_of_customer == 0):\n",
        "  if (Units <= 100):\n",
        "    if (Units <= 50):\n",
        "      Energy_charges = 1.95*Units\n",
        "      Fixed_charges = 10\n",
        "      Customer_charges = 40\n",
        "    else:\n",
        "      Energy_charges = 3.10 * Units\n",
        "      Fixed_charges = 10\n",
        "      Customer_charges = 70\n",
        "  else:\n",
        "    if (Units > 100 and Units <= 200):\n",
        "      Energy_charges = 3.4 * 100 + (Units - 100) * 4.8\n",
        "      Fixed_charges = 10\n",
        "      Customer_charges = 90\n",
        "    else:\n",
        "      print(\"Application not supported\")\n",
        "      count = count + 1\n",
        "if (Type_of_customer == 1):\n",
        "  if (Units <= 50):\n",
        "    Energy_charges = 7 * Units\n",
        "    Fixed_charges = 60\n",
        "    Customer_charges = 50\n",
        "  else:\n",
        "    print(\"Application not supported\")\n",
        "    count = count + 1\n",
        "if (Type_of_customer == 2):\n",
        "  Energy_charges = 13 * Units\n",
        "  Fixed_charges = 70\n",
        "  Customer_charges = 160\n",
        "\n",
        "Bill_amount = Energy_charges + Fixed_charges + Customer_charges + Electricity_Duty_charges\n",
        "\n",
        "if (count == 0):\n",
        "  print(\"TGNPDCL\")\n",
        "  print(\"Present_KWH: Current_units\",Current_units)\n",
        "  print(\"Previous_KWH: Previous_units\",Previous_units)\n",
        "  print(\"Units consumed: \",Units)\n",
        "  print(\"Energy charges: \",Energy_charges)\n",
        "  print(\"Fixed charges: \",Fixed_charges)\n",
        "  print(\"Customer charges: \",Customer_charges)\n",
        "  print(\"Electricity Duty charges: \",Electricity_Duty_charges)\n",
        "  print(\"Units consumed: \",Units)\n",
        "  print(\"Bill amount: \",Bill_amount)\n",
        "\n",
        "\n"
      ],
      "metadata": {
        "colab": {
          "base_uri": "https://localhost:8080/"
        },
        "id": "bephnv8GMTRT",
        "outputId": "d771b932-12b4-40f8-8ec5-a365d0c0db06"
      },
      "execution_count": 5,
      "outputs": [
        {
          "output_type": "stream",
          "name": "stdout",
          "text": [
            "Enter the previous units7144\n",
            "Enter the current units7183\n",
            "Enter the type of customer0\n",
            "current date and time 2024-09-09 10:15:07.690121\n",
            "TGNPDCL\n",
            "Present_KWH: Current_units 7183.0\n",
            "Previous_KWH: Previous_units 7144.0\n",
            "Units consumed:  39.0\n",
            "Energy charges:  76.05\n",
            "Fixed charges:  10\n",
            "Customer charges:  40\n",
            "Electricity Duty charges:  2.34\n",
            "Units consumed:  39.0\n",
            "Bill amount:  128.39\n"
          ]
        }
      ]
    }
  ]
}