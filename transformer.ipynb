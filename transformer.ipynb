{
  "nbformat": 4,
  "nbformat_minor": 0,
  "metadata": {
    "colab": {
      "provenance": [],
      "authorship_tag": "ABX9TyPNEfbTv+8ilI6tRon9NKlQ",
      "include_colab_link": true
    },
    "kernelspec": {
      "name": "python3",
      "display_name": "Python 3"
    },
    "language_info": {
      "name": "python"
    }
  },
  "cells": [
    {
      "cell_type": "markdown",
      "metadata": {
        "id": "view-in-github",
        "colab_type": "text"
      },
      "source": [
        "<a href=\"https://colab.research.google.com/github/Itspk-max/python/blob/main/transformer.ipynb\" target=\"_parent\"><img src=\"https://colab.research.google.com/assets/colab-badge.svg\" alt=\"Open In Colab\"/></a>"
      ]
    },
    {
      "cell_type": "code",
      "execution_count": 10,
      "metadata": {
        "id": "OzIygQYTHGms"
      },
      "outputs": [],
      "source": [
        "def oc(vO,iO,wO):\n",
        "  import math\n",
        "  npf=wO/(vO*iO)\n",
        "  iw=iO*npf\n",
        "  imv=iO*math.sqrt(1-npf**2)\n",
        "  rO=vO/iw\n",
        "  xO=vO/imv\n",
        "  return rO,xO"
      ]
    },
    {
      "cell_type": "code",
      "source": [
        "def sc(vsc,isc,wsc):\n",
        "  import math\n",
        "  rhv=wsc/(isc**2)\n",
        "  zhv=vsc/isc\n",
        "  xhv=math.sqrt(zhv**2-rhv**2)\n",
        "  return rhv,xhv\n",
        "\n"
      ],
      "metadata": {
        "id": "mBizGlyMIF_9"
      },
      "execution_count": 8,
      "outputs": []
    },
    {
      "cell_type": "code",
      "source": [
        "def eff(r,wO,wsc,x,pf):\n",
        "  efficiency=(x*r*pf*100)/(x*r*pf+wO+(x**2)*wsc)\n",
        "  xcu=wsc*(x**2)\n",
        "  return efficiency,xcu"
      ],
      "metadata": {
        "id": "emDXel81Jbg7"
      },
      "execution_count": 11,
      "outputs": []
    }
  ]
}